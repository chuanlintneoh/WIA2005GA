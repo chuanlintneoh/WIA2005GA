{
 "cells": [
  {
   "cell_type": "code",
   "execution_count": null,
   "metadata": {},
   "outputs": [],
   "source": [
    "# Algo Jones finally found the chest in chamber marked 14 in the floor plan. The chest \n",
    "# contains a lock that requires a 3-digit number combination (Figure 2). \n",
    "# What are the possible number combination for the lock? \n",
    "\n"
   ]
  }
 ],
 "metadata": {
  "language_info": {
   "name": "python"
  }
 },
 "nbformat": 4,
 "nbformat_minor": 2
}
