{
 "cells": [
  {
   "cell_type": "markdown",
   "metadata": {},
   "source": [
    "# Part 2: Cracking the chest lock code #"
   ]
  },
  {
   "cell_type": "markdown",
   "metadata": {},
   "source": [
    "Problem Statement\n",
    "Algo Jones finally found the chest in chamber marked 14 in the floor plan. The chest contains a lock that requires a 3-digit number combination(Figure 2).\n",
    "\n",
    "Problem:\n",
    "What are the possible number combination of the lock?"
   ]
  },
  {
   "cell_type": "markdown",
   "metadata": {},
   "source": [
    "### Brainstorming\n",
    "\n",
    "\n",
    "**1) Brute Force Algorithm**\n",
    "\n",
    "Description: This approach is straightforward and exhaustive. It systematically tries all possible combinations of three digits until the correct one is found. Starting from 000 and going up to 999, it iterates through each combination in a sequential manner, testing them until the lock open.\n",
    "\n",
    "Advantages: .\n",
    "Guarantees finding all possible combinations: By exhaustively testing each combination, it ensures that no combination is missed.\n",
    "Simple and easy to implement: The algorithm is easy to understand and implement without requiring complex logic.\n",
    "\n",
    "Limitations:\n",
    "Time-consuming for larger search spaces: As the search space grows, the time required to test each combination increases significantly, potentially becoming impractical for very large search spaces.\n",
    "Resource-intensive: Testing every possible combination can require substantial computational resources, especially for complex locks.\n",
    "\n",
    "\n",
    "**2) Non-Repetitive Combinations (No Order Arrangements)**\n",
    "\n",
    "Description: This approach focuses on generating all non-repetitive combinations of three digits without considering the order of digits. It calculates the total number of such combinations using principles of permutations and combinations, without actually generating each combination individually.\n",
    "\n",
    "Advantages:\n",
    "Direct determination of total combinations: By employing mathematical principles, it provides the total count of combinations without the need for exhaustive generation.\n",
    "Efficiency: The calculation of the total number of combinations has a constant time complexity, making it efficient even for large search spaces.\n",
    "\n",
    "Limitations:\n",
    "Assumes absence of repeated digits: It operates under the assumption that no digits are repeated within a combination, which may not always hold true.\n",
    "Lack of specific combinations: While it yields the total count of combinations, it does not provide the actual combinations themselves.\n",
    "\n",
    "\n",
    "\n",
    "**3) Lexicographical Ordering**\n",
    "\n",
    "Description: The lexicographical ordering approach generates combinations in a specific order based on their lexicographical ranking. It starts with the smallest combination (000) and progresses through all combinations in a predetermined order until the largest combination (999) is reached.\n",
    "\n",
    "Advantages:\n",
    "Structured generation of combinations: Combinations are generated in a predictable order, facilitating systematic examination or traversal.\n",
    "Efficiency in iteration: The structured order allows for efficient iteration through the entire set of combinations, aiding in systematic testing or analysis.\n",
    "\n",
    "Limitations:\n",
    "Lack of constraint enforcement: It does not enforce specific constraints such as uniqueness or absence of repeated digits, potentially leading to redundancy in generated combinations.\n",
    "Limited applicability: While suitable for systematic exploration, it may not be the most efficient approach for locks with specific patterns or characteristics.\n",
    "\n",
    "\n"
   ]
  },
  {
   "cell_type": "markdown",
   "metadata": {},
   "source": [
    "### Selection\n",
    "The Non-Repetitive Combinations approach stands out as the best solution for determining all possible combinations for the lock due to its efficiency, accuracy, and ease of implementation. By directly calculating the total number of combinations using mathematical principles, it ensures optimal resource utilization and guarantees accuracy without the need for exhaustive computation. This approach is highly efficient, requiring only a simple calculation to determine the total number of combinations, making it well-suited for the given problem statement.\n",
    "\n"
   ]
  },
  {
   "cell_type": "markdown",
   "metadata": {},
   "source": [
    "### Running Time Complexity\n",
    "- The running time complexity for the non-repetitive combinations (no ordering) approach is 𝑂(1), which indicates constant time complexity.\n",
    "- This means that the time required to determine the total number of combinations remains constant regardless of the input size.\n",
    "- The approach directly calculates the total number of combinations using mathematical principles without iterating through individual combinations, resulting in a fixed execution time.\n",
    "- Therefore, the time complexity does not depend on the number of items or any other parameters, making it highly efficient for this specific task.\n"
   ]
  },
  {
   "cell_type": "markdown",
   "metadata": {},
   "source": [
    "### Pseudocode\n",
    "\n",
    "Algorithm NonRepetitiveCombinationsCount():\n",
    "\n",
    "    Input: None\n",
    "\n",
    "    Output: Total number of non-repetitive combinations\n",
    "\n",
    "1. totalCombinations = Choose(10, 3)  // Calculate \"10 choose 3\" combinations\n",
    "2. return totalCombinations\n",
    "\n",
    "#### Explanation of Pseudocode\n",
    "- The algorithm calculates the total number of non-repetitive combinations by using the combination formula \"10 choose 3\", which represents the number of ways to choose 3 items from a set of 10 items without repetition.\n",
    "- The function \"Choose(n, k)\" represents the combination formula which calculates the number of combinations.\n",
    "- Finally, the algorithm returns the total number of non-repetitive combinations as the output.\n",
    "\n"
   ]
  },
  {
   "cell_type": "markdown",
   "metadata": {},
   "source": [
    "### Implementation\n"
   ]
  },
  {
   "cell_type": "code",
   "execution_count": 1,
   "metadata": {},
   "outputs": [
    {
     "name": "stdout",
     "output_type": "stream",
     "text": [
      "Total number of non-repetitive combinations for a 3-digit lock: 120\n"
     ]
    }
   ],
   "source": [
    "import math\n",
    "\n",
    "\n",
    "def non_repetitive_combinations_count():\n",
    "    \"\"\"\n",
    "    Calculates the total number of non-repetitive combinations for a 3-digit lock.\n",
    "    Returns:\n",
    "        int: Total number of non-repetitive combinations.\n",
    "    \"\"\"\n",
    "    total_combinations = math.comb(10, 3)\n",
    "    return total_combinations\n",
    "\n",
    "\n",
    "# Example usage:\n",
    "total_combinations = non_repetitive_combinations_count()\n",
    "print(\"Total number of non-repetitive combinations for a 3-digit lock:\", total_combinations)"
   ]
  }
 ],
 "metadata": {
  "kernelspec": {
   "display_name": "Python 3",
   "language": "python",
   "name": "python3"
  },
  "language_info": {
   "codemirror_mode": {
    "name": "ipython",
    "version": 3
   },
   "file_extension": ".py",
   "mimetype": "text/x-python",
   "name": "python",
   "nbconvert_exporter": "python",
   "pygments_lexer": "ipython3",
   "version": "3.12.3"
  }
 },
 "nbformat": 4,
 "nbformat_minor": 2
}
