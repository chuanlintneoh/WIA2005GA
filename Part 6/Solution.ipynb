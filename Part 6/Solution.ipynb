{
 "cells": [
  {
   "cell_type": "markdown",
   "id": "62f32248-a04a-44a4-94b7-4e800d7e3b43",
   "metadata": {},
   "source": [
    "# Part 6: The final search of the Golden Statue of Bastet "
   ]
  },
  {
   "cell_type": "markdown",
   "id": "1dd65cd2-0e11-41e9-930f-494d5bc95967",
   "metadata": {},
   "source": [
    "## **Algorithm chosen: Weighted Scoring System**"
   ]
  },
  {
   "cell_type": "markdown",
   "id": "7775c18c-5038-482f-a09f-fe70503a58e3",
   "metadata": {},
   "source": [
    "### **Steps**  \n",
    "### 1. Define Criteria & Weights\n",
    "\n",
    "**Criteria: Land Condition & Wild Animals Presence**\n",
    "\n",
    "**Weight for Land Condition: 4/10**  \n",
    "**Weight for Wild Animal Presence: 6/10**\n",
    "\n",
    "**Weighted Score for Land Condition**\n",
    "\n",
    "- Swamp Area: Highest (10/10)\n",
    "  - Potentially hazardous conditions such as muddy, difficult-to-navigate areas\n",
    "- Mountains and Caves: High (8/10)\n",
    "  - Can offer hiding spots and unique exploration opportunities\n",
    "  - Also pose risks such as steep slopes, rocky terrain, and the potential for getting lost or trapped\n",
    "\n",
    "- Thick Woods & a Lake: Medium (6/10)\n",
    "  - Can provide resources like wood or fish\n",
    "  - Have challenges like dense trees that make it hard to see and move around\n",
    "  - Lakes can have hazards like deep water or hidden obstacles\n",
    "\n",
    "- Sandy Flat Land: Low (4/10)\n",
    "  - Generally easier to traverse compared to other terrains\n",
    "  - Pose challenges such as extreme temperatures\n",
    "\n",
    "- Inhabited with Villages & Agriculture Area: Lowest (1/10)\n",
    "  - Relatively safe and accessible environment with infrastructure, resources, and minimal natural hazards.\n",
    "\n",
    "**Weighted Score for Wild Animals Presence**\n",
    "\n",
    "- Full of Wild Animals: High (10/10)\n",
    "  - Considered extremely dangerous.\n",
    "  - Poses the highest threat to Algo Jones' safety due to the potential for aggressive or numerous wild animals.\n",
    "\n",
    "- Some Wild Animals: Medium (5/10)\n",
    "  - Moderate levels of danger from wild animals.\n",
    "  - While some wild animals present risks, they may not be as severe as islands full of wild animals.\n",
    "\n",
    "- Small but Poisonous Animals: Medium (5/10)\n",
    "  - Moderate levels of danger from wild animals.\n",
    "  - While small but poisonous animals present risks, they may not be as severe as islands full of wild animals.\n",
    "\n",
    "- No Wild Animals: Lowest (3/10)\n",
    "  - The safest in terms of animal-related hazards.\n",
    "  - Reduces the risk of wildlife encounters and potential dangers for Algo Jones.\n",
    "\n",
    "### 2. Evaluate Each Island\n",
    "\n",
    "- For each island, assess the following criteria based on the assigned weights:\n",
    "  - Wild animal presence (full of, some, small but poisonous, none)\n",
    "  - Land condition (swamp area, mountains and caves, thick woods and a lake, sandy flat land, inhabited with villages and agriculture area)\n",
    "\n",
    "### 3. Calculate Scores\n",
    "\n",
    "- For each island, calculate a safety score using the weighted scoring system formula:\n",
    "  - Safety Score = (Weighted Score for Land Condition * Weight for Land Condition) + (Weighted Score for Wild Animals * Weight for Wild Animals)\n",
    "\n",
    "### 4. Rank Island by Scores\n",
    "\n",
    "- Rank the islands based on their safety scores, with lower scores indicating safer islands for Algo Jones to search.\n",
    "- List the islands in ascending order of safety scores, from lowest to highest.\n",
    "\n",
    "### 5. Recommendation\n",
    "\n",
    "- Based on the ranked list of islands, recommend searching the top-ranked island(s) with the lowest safety scores as the safest options for Algo Jones to search for the Golden Statue of Bastet.\n"
   ]
  },
  {
   "cell_type": "markdown",
   "id": "47a9e097-e779-43d5-be4e-53164f556e73",
   "metadata": {},
   "source": [
    "### **Pseudocode**\n",
    "\n",
    "```python\n",
    "procedure EvaluateAndRankIslands():\n",
    "    islandList = [North, South, East, West, Middle]\n",
    "    safetyScores = {}\n",
    "\n",
    "    # Step 1: Calculate Safety Scores for Each Island\n",
    "    for island in islandList:\n",
    "        landCondition = GetLandCondition(island)\n",
    "        wildAnimalsPresence = GetWildAnimalsPresence(island)\n",
    "        safetyScore = CalculateSafetyScore(landCondition, wildAnimalsPresence)\n",
    "        safetyScores[island] = safetyScore\n",
    "\n",
    "    # Step 2: Rank Islands by Safety Scores\n",
    "    rankedIslands = SortIslandsBySafetyScore(safetyScores)\n",
    "\n",
    "    # Step 3: Recommendation\n",
    "    print(\"Recommendation:\")\n",
    "    for island in rankedIslands:\n",
    "        print(f\"Search island {island} with safety score {safetyScores[island]}\")\n"
   ]
  },
  {
   "cell_type": "markdown",
   "id": "db72edfe-818f-4e61-bcb4-054afebb9403",
   "metadata": {},
   "source": [
    "### **Idea Implementation**"
   ]
  },
  {
   "cell_type": "code",
   "execution_count": 1,
   "id": "f305dd64-39c8-460c-b661-66b8205e1f80",
   "metadata": {},
   "outputs": [
    {
     "name": "stdout",
     "output_type": "stream",
     "text": [
      "Middle: Safety Score 22\n",
      "West: Safety Score 46\n",
      "South: Safety Score 62\n",
      "East: Safety Score 84\n",
      "North: Safety Score 100\n"
     ]
    }
   ],
   "source": [
    "def weighted_scoring_system(islands):\n",
    "    # Define weights\n",
    "    weights = {\n",
    "        'Swamp Area': 10,\n",
    "        'Mountains and caves': 8,\n",
    "        'Thick woods and a lake': 6,\n",
    "        'Sandy flat sand': 4,\n",
    "        'Inhabited with villages and agriculture area': 1\n",
    "    }\n",
    "    \n",
    "    # Define weights for wild animals presence\n",
    "    animal_weights = {\n",
    "        'Full of wild animals': 10,\n",
    "        'Some wild animals': 5,\n",
    "        'Small but poisonous animals': 5,\n",
    "        'No wild animals': 3\n",
    "    }\n",
    "    \n",
    "    # Calculate safety scores for each island\n",
    "    for island in islands:\n",
    "        land_condition_score = weights[island['Land Condition']] * 4  # Weight for Land Condition is 4/10\n",
    "        wild_animal_score = animal_weights[island['Wild Animals Presence']] * 6  # Weight for Wild Animal Presence is 6/10\n",
    "        island['Safety Score'] = land_condition_score + wild_animal_score\n",
    "    \n",
    "    # Sort islands based on safety scores\n",
    "    islands.sort(key=lambda x: x['Safety Score'])\n",
    "    \n",
    "    return islands\n",
    "\n",
    "# Example usage\n",
    "islands = [\n",
    "    {'Name': 'North', 'Land Condition': 'Swamp Area', 'Wild Animals Presence': 'Full of wild animals'},\n",
    "    {'Name': 'South', 'Land Condition': 'Mountains and caves', 'Wild Animals Presence': 'Some wild animals'},\n",
    "    {'Name': 'East', 'Land Condition': 'Thick woods and a lake', 'Wild Animals Presence': 'Full of wild animals'},\n",
    "    {'Name': 'West', 'Land Condition': 'Sandy flat sand', 'Wild Animals Presence': 'Small but poisonous animals'},\n",
    "    {'Name': 'Middle', 'Land Condition': 'Inhabited with villages and agriculture area', 'Wild Animals Presence': 'No wild animals'}\n",
    "]\n",
    "\n",
    "sorted_islands = weighted_scoring_system(islands)\n",
    "\n",
    "# Display sorted islands\n",
    "for island in sorted_islands:\n",
    "    print(f\"{island['Name']}: Safety Score {island['Safety Score']}\")\n"
   ]
  },
  {
   "cell_type": "markdown",
   "id": "4bcf38c1-02de-4556-a70f-c829d7737d90",
   "metadata": {},
   "source": [
    "### **Algorithm Analysis**"
   ]
  },
  {
   "cell_type": "markdown",
   "id": "51d5388a-885c-4354-bba5-60ac627c9039",
   "metadata": {},
   "source": [
    "- **Calculating Safety Scores for Each Island:**\n",
    "  - This step involves iterating through each island in the list and performing calculations to determine its safety score.\n",
    "  - Assuming there are 'n' islands, the time complexity of this step is O(n).  \n",
    "\n",
    "  \n",
    "- **Sorting Islands by Safety Scores:**\n",
    "  - After calculating safety scores for each island, the algorithm sorts the islands based on these scores to rank them.\n",
    "  - Sorting algorithm used is TimSort, which has a time complexity of O(n log n).\n",
    "\n",
    "- **Overall Time Complexity:**\n",
    "  - Since the most significant factor affecting the time complexity is typically the sorting step, we consider the sorting time complexity of O(n log n) in this analysis.\n",
    "  - Therefore, the overall time complexity of the weighted scoring system algorithm is dominated by the sorting step, resulting in **O(n log n)** time complexity.\n"
   ]
  },
  {
   "cell_type": "markdown",
   "id": "901da4a7-8e14-4814-b419-ba60db074e59",
   "metadata": {},
   "source": [
    "### **Discussion**"
   ]
  },
  {
   "cell_type": "markdown",
   "id": "ef1fc549-77fb-4cd7-8f53-767449f5104b",
   "metadata": {},
   "source": [
    "#### Advantages \n",
    "- **Flexibility:** Allows for flexibility in defining criteria and assigning weights based on specific requirements and considerations.\n",
    "- **Customization:** Can be customized to prioritize different factors depending on the problem domain, such as safety, efficiency, cost-effectiveness, etc.\n",
    "- **Transparency:** Provides transparency in the decision-making process as the weighted scores are based on predefined criteria and weights.\n"
   ]
  },
  {
   "cell_type": "markdown",
   "id": "8edb68df-808a-4ebf-8101-3ee2fc3e4a57",
   "metadata": {},
   "source": [
    "#### Limitations\n",
    "- **Subjectivity:** The selection of criteria and assignment of weights can be subjective, leading to potential bias or inaccuracies if not carefully considered.\n",
    "- **Overlooking Interactions:** May overlook interactions between criteria, leading to oversimplification or missing important nuances.\n",
    "- **Dependency on Input Data:** Accuracy heavily depends on the accuracy and relevance of the input data used to determine criteria and weights.\n"
   ]
  },
  {
   "cell_type": "markdown",
   "id": "b671cf11-d117-406b-97ca-ab7d41da24a1",
   "metadata": {},
   "source": [
    "#### Justifications\n",
    "- **Balanced Efficiency:** Offers moderate speed and resource utilization, striking a balance between performance and computational requirements.\n",
    "- **Ease of Implementation:** Simple to implement, making it accessible to users with varying levels of expertise and reducing the risk of errors.\n",
    "- **Versatility:** Suitable for moderate data sizes and adaptable to different problem scales without compromising accuracy.\n",
    "- **Comparable Efficiency:** Time complexity is on par with other considered algorithms, ensuring efficient computational performance.\n",
    "- **High Accuracy Potential:** Can achieve high accuracy depending on carefully defined criteria and weights, making it a reliable choice for decision-making tasks.\n"
   ]
  },
  {
   "cell_type": "markdown",
   "id": "e2e5f17e-76d7-49ac-b70d-80a169a2c249",
   "metadata": {},
   "source": [
    "#### Possible Modifications\n",
    "\n",
    "- **Dynamic Weights:** Implement a mechanism to adjust weights dynamically based on changing conditions or user feedback. This can improve the system's adaptability and accuracy over time.\n",
    "- **Normalization:** Normalize input data and scores to account for differences in scale and magnitude. This ensures that each criterion contributes proportionally to the overall score.\n",
    "- **Consider Additional Criteria:** Evaluate the inclusion of additional criteria relevant to the problem domain or stakeholder preferences, expanding the scope of factors considered in decision-making.\n",
    "- **Optimization Algorithms:** Utilize optimization algorithms such as genetic algorithms or simulated annealing to optimize criteria weights and improve the overall performance of the scoring system.\n"
   ]
  }
 ],
 "metadata": {
  "kernelspec": {
   "display_name": "Python 3 (ipykernel)",
   "language": "python",
   "name": "python3"
  },
  "language_info": {
   "codemirror_mode": {
    "name": "ipython",
    "version": 3
   },
   "file_extension": ".py",
   "mimetype": "text/x-python",
   "name": "python",
   "nbconvert_exporter": "python",
   "pygments_lexer": "ipython3",
   "version": "3.12.2"
  }
 },
 "nbformat": 4,
 "nbformat_minor": 5
}
