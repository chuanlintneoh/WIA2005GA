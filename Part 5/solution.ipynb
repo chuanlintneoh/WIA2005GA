{
 "cells": [
  {
   "cell_type": "code",
   "execution_count": 4,
   "metadata": {},
   "outputs": [
    {
     "name": "stdout",
     "output_type": "stream",
     "text": [
      "Decrypted text: The statue is burried under a tree marked with x on Cluster Island- 3\n"
     ]
    }
   ],
   "source": [
    "def caesar_decrypt(ciphertext, key):\n",
    "    decrypted_text = \"\"\n",
    "    for char in ciphertext:\n",
    "        # Check if the character is a letter\n",
    "        if char.isalpha():\n",
    "            # Determine if it's uppercase or lowercase\n",
    "            if char.isupper():\n",
    "                decrypted_text += chr((ord(char) - key - 65) % 26 + 65)\n",
    "            else:\n",
    "                decrypted_text += chr((ord(char) - key - 97) % 26 + 97)\n",
    "        else:\n",
    "            # If it's not a letter (e.g., space or punctuation), keep it unchanged\n",
    "            decrypted_text += char\n",
    "    return decrypted_text\n",
    "\n",
    "ciphertext = \"Wkh vwdwxh lv exuulhg xqghu d wuhh pdunhg zlwk a rq Foxvwhu Lvodqg- 3\"\n",
    "key = 3\n",
    "plaintext = caesar_decrypt(ciphertext, key)\n",
    "print(\"Decrypted message:\", plaintext)\n"
   ]
  }
 ],
 "metadata": {
  "kernelspec": {
   "display_name": "Python 3",
   "language": "python",
   "name": "python3"
  },
  "language_info": {
   "codemirror_mode": {
    "name": "ipython",
    "version": 3
   },
   "file_extension": ".py",
   "mimetype": "text/x-python",
   "name": "python",
   "nbconvert_exporter": "python",
   "pygments_lexer": "ipython3",
   "version": "3.12.2"
  }
 },
 "nbformat": 4,
 "nbformat_minor": 2
}
