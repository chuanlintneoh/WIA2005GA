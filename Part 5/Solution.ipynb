{
 "cells": [
  {
   "cell_type": "markdown",
   "metadata": {},
   "source": [
    "**Part 5: The Secret message** \n",
    "\n",
    "Problem Statement :\n",
    "\n",
    "The different words found in one of the letter sounded like an ancient book title that Algo Jones have seen in the library back in Harvard University. He straight away plan his travel to visit the library. Once there he found the book and straight away open to read them. At first glance, nothing seems out of the ordinary apart from the usual writings on ancient civilisation, but at the end of the book, Algo Jones found a string of strange characters (Figure 4) \n"
   ]
  },
  {
   "cell_type": "markdown",
   "metadata": {},
   "source": [
    "![part5_strangeString](assets/Part5_comparison.png)"
   ]
  },
  {
   "cell_type": "markdown",
   "metadata": {},
   "source": [
    "**Figure 4: The characters found in the book**\n"
   ]
  },
  {
   "cell_type": "markdown",
   "metadata": {},
   "source": [
    "He knew it must have mean something. He needs to decode them. \n",
    "\n",
    "**Problem:**\n",
    "\n",
    "What is the secret message from the book?\n"
   ]
  },
  {
   "cell_type": "markdown",
   "metadata": {},
   "source": [
    "**Brainstorming:**\n",
    "\n",
    "Assumption: Type of encryption used in the string of strange characters is substitution cipher where each letter is shifted by a certain number of positions in the alphabet.\n"
   ]
  },
  {
   "cell_type": "markdown",
   "metadata": {},
   "source": [
    "**Possible algorithms to solve the problem:**"
   ]
  },
  {
   "cell_type": "markdown",
   "metadata": {},
   "source": [
    "**1. Brute Force(Shift cipher)**\n",
    "\n",
    "In this encryption approach, each letter in the string is shifted backward in the alphabet by a certain number of positions, determined by a key. Key in this approach represents the number of positions each letter is shifted. Since there are 26 letters in the English alphabet, there are 25 possible keys.In order to decrypt the message, each character in the string is shifted back by the specific key. For instance, if the key is 2 and the letter is ‘C’, it would be shifted back 2 positions to ‘A’.This process is repeated for all the letters in the string. The message is decrypted using all the possible keys and the decrypted messages are compared to identify which makes the most sense in the given context.\n",
    "\n",
    "**Advantages:**\n",
    "- **Simple implementation:** Straightforward to implement, requiring only basic knowledge of string manipulation and character shifting.\n",
    "- **Exploratory:** By decrypting the message using all possible keys, this approach explores various decryption possibilities,increasing the likelihood of identifying the correct decryption\n",
    "\n",
    "\n",
    "**Limitations:**\n",
    "- **Time-consuming:** Due to the large number of decryption attempts, this approach can be time-consuming,especially for messages with a large number of characters\n",
    "\n",
    "\n",
    "**Possible modifications:**\n",
    "- **Partial decryption:** Instead of decrypting the entire message using all possible keys, consider decrypting only a portion of the message or focusing on specific sections of interest. This could help reduce the computational burden while still providing valuable insights\n",
    "\n"
   ]
  },
  {
   "cell_type": "markdown",
   "metadata": {},
   "source": [
    "**2. Cipher(Known key)**\n",
    "\n",
    "This approach operates similarly to the first algorithm Brute Force(Shift cipher) which involves shifting each letter in the string backward in the alphabet by a certain number of positions determined by a key. However, we assume that we know that the key in this approach, eliminating the need to iterate through all possible keys as in Brute Force.Instead, with the known key, the decryption process directly applies the reverse shift to each character, swiftly revealing the decrypted message.\n",
    "\n",
    "**Advantages:**\n",
    "- **Speed:** This approach offers a fast decryption process because with the known key, the decryption process is direct and efficient.\n",
    "- **Optimal data size:** Suitable for decryption of all data sizes, from small to large datasets, without sacrificing performance\n",
    "\n",
    "\n",
    "**Limitations:**\n",
    "- **Dependency on key:** The decryption process heavily relies on knowing the correct key.If the assumed key is incorrect, the decryption will yield inaccurate results.\n",
    "\n",
    "**Possible modifications:**\n",
    "- **Key validation:** Implement a key validation mechanism to ensure that the assumed key is correct before proceeding with decryption. This could involve checking the validity of the key against certain criteria or performing a checksum verification.\n",
    "- **Parameterization:** Allow customization for the shift direction\n",
    "\n"
   ]
  },
  {
   "cell_type": "markdown",
   "metadata": {},
   "source": [
    "**3. Brute Force(Multiple keys)**\n",
    "\n",
    "This algorithm differs from both Brute Force(Shift cipher) and Cipher(Known key) because the former two algorithms apply the same key to each character in the message for decryption.In this approach, every character in the string is decrypted with a different key, generating all possible combinations of backward shifts for each character.Once all combinations are generated , the decrypted messages are compared to identify the one that makes the most sense in the given context.For instance, if the message consist of 3 characters, we would have a total of 26^3=17576 combinations to test.\n",
    "\n",
    "**Advantages:**\n",
    "- **Comprehensive decryption:** By decrypting each character with a different key, this approach explores a wide range of decryption possibilities,increasing the likelihood of identifying the correct decryption.\n",
    "- **Flexibility:** Offers flexibility in handling message encrypted with varying encryption patterns or key.\n",
    "\n",
    "**Limitations:**\n",
    "- **High computational complexity:** Decrypting each character with a different key results in a significant increase in computational complexity,especially for longer messages.\n",
    "- **Increased time complexity:** The time complexity grows exponentially with the number of characters in the messages, resulting in longer decryption times for larger messages.\n",
    "\n",
    "**Possible modifications:**\n",
    "- **Partial decryption:** Instead of decrypting the entire message using all possible keys, consider decrypting only a portion of the message or focusing on specific sections of interest. This could help reduce the computational burden while still providing valuable insights\n"
   ]
  },
  {
   "cell_type": "markdown",
   "metadata": {},
   "source": [
    "**Comparison of Algorithms:**"
   ]
  },
  {
   "cell_type": "markdown",
   "metadata": {},
   "source": [
    "![part5_comparison](assets/Part5_comparison.png)"
   ]
  },
  {
   "cell_type": "markdown",
   "metadata": {},
   "source": [
    "**Selection:**\n",
    "\n",
    "The selected algorithm for this problem is algorithm 2 **Cipher(Known key)**. We are operating under the assumption that the key is 3, based on a quick guess derived from observing the number ‘3’ at the end of the string. This assumption guides our decryption process, allowing us to directly apply the known key for this decryption algorithm approach. We chose this algorithm because it offers several advantages over the other two algorithms in terms of speed, CPU and memory utilization, optimal data size, ease of implementation, time complexity and accuracy."
   ]
  },
  {
   "cell_type": "markdown",
   "metadata": {},
   "source": [
    "**Running Time Complexity:**\n",
    "\n",
    "- The time complexity of the selected approach, Cipher(Known key) algorithm depends on the length of the input message, denoted as **_n_**.\n",
    "- We directly apply the known key to decrypt each character in the string so the time complexity of the decryption process is linear with respect to the length of the message.\n",
    "- Hence, the time complexity of this algorithm is **_O(n)_** , where n is the number of characters in the input message.\n",
    "- This means that the time required to decrypt the message increases linearly with the size of the message, making the algorithm efficient for processing messages of varying lengths.\n"
   ]
  },
  {
   "cell_type": "markdown",
   "metadata": {},
   "source": [
    "**Pseudocode:**\n",
    "\n",
    "Set key=3<br>\n",
    "Define a function caesar_decrypt(ciphertext,key):<br>\n",
    "&emsp;Initialize an empty string to store the decrypted message<br>\n",
    "&emsp;For each character in the message<br>\n",
    "&emsp;&emsp;IF the character is a alphabet<br>\n",
    "&emsp;&emsp;&emsp;Shift the character backward by a certain number of positions determined by the key<br>\n",
    "&emsp;&emsp;&emsp;Append the shifted character into the initialized string<br>\n",
    "&emsp;&emsp;ELSE<br>\n",
    "&emsp;&emsp;&emsp;Append the character into the initialized string<br>\n",
    "&emsp;&emsp;END IF<br>\n",
    "&emsp;END FOR<br>\n",
    "&emsp;RETURN the decrypted message<br>\n",
    "Invoke function caesar_decrypt<br>\n",
    "Display the decrypted message<br>\n"
   ]
  },
  {
   "cell_type": "markdown",
   "metadata": {},
   "source": [
    "**Implementation:**"
   ]
  },
  {
   "cell_type": "code",
   "execution_count": 1,
   "metadata": {},
   "outputs": [
    {
     "name": "stdout",
     "output_type": "stream",
     "text": [
      "Secret message: The statue is burried under a tree marked with x on Cluster Island- 3\n"
     ]
    }
   ],
   "source": [
    "def cipher(ciphertext, key):\n",
    "    decrypted_text = \"\"\n",
    "    for char in ciphertext:\n",
    "        # Check if the character is a letter\n",
    "        if char.isalpha():\n",
    "            # Determine if it's uppercase or lowercase\n",
    "            if char.isupper():\n",
    "                decrypted_text += chr((ord(char) - key - 65) % 26 + 65)\n",
    "            else:\n",
    "                decrypted_text += chr((ord(char) - key - 97) % 26 + 97)\n",
    "        else:\n",
    "            # If it's not a letter (e.g., space or punctuation), keep it unchanged\n",
    "            decrypted_text += char\n",
    "    return decrypted_text\n",
    "\n",
    "secretMessage = \"Wkh vwdwxh lv exuulhg xqghu d wuhh pdunhg zlwk a rq Foxvwhu Lvodqg- 3\"\n",
    "key = 3\n",
    "decryptedMessage = cipher(secretMessage, key)\n",
    "print(\"Secret message:\", decryptedMessage)"
   ]
  },
  {
   "cell_type": "markdown",
   "metadata": {},
   "source": [
    "**Output:**"
   ]
  },
  {
   "cell_type": "markdown",
   "metadata": {},
   "source": [
    "![part5_output](assets/Part5_output.png)"
   ]
  }
 ],
 "metadata": {
  "kernelspec": {
   "display_name": "Python 3",
   "language": "python",
   "name": "python3"
  },
  "language_info": {
   "codemirror_mode": {
    "name": "ipython",
    "version": 3
   },
   "file_extension": ".py",
   "mimetype": "text/x-python",
   "name": "python",
   "nbconvert_exporter": "python",
   "pygments_lexer": "ipython3",
   "version": "3.12.2"
  }
 },
 "nbformat": 4,


 "nbformat_minor": 2
}
