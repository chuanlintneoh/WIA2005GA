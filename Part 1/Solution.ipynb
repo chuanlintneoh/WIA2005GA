{
 "cells": [
  {
   "cell_type": "markdown",
   "metadata": {},
   "source": [
    "# Part 1: Finding the Golden Statue of Bastet"
   ]
  },
  {
   "cell_type": "markdown",
   "metadata": {},
   "source": [
    "## Step 1: Define the Data Structure"
   ]
  },
  {
   "attachments": {
    "Maze.png": {
     "image/png": "[encoded data removed]"
    }
   },
   "cell_type": "markdown",
   "metadata": {},
   "source": [
    "![Maze.png](attachment:Maze.png)\n",
    "\n",
    "Figure 1: Modified floor plan"
   ]
  },
  {
   "cell_type": "code",
   "execution_count": 1,
   "metadata": {},
   "outputs": [
    {
     "name": "stdout",
     "output_type": "stream",
     "text": [
      "#  #  #  #  #  #  #  #  #  #  #  \n",
      "#  1     2     3  #  4     5  #  \n",
      "#     #  #  #     #  #  #     #  \n",
      "#  6  #  7     8     9     10 #  \n",
      "#     #     #     #  #  #     #  \n",
      "#  11    12 #  13 #  14 #  15 #  \n",
      "#  #  #     #     #     #     #  \n",
      "#  16    17 #  18 #  19    20 #  \n",
      "#     #     #     #  #  #  #  #  \n",
      "#  21 #  22 #  23    24    25 #  \n",
      "#  #  #  #  #  #  #  #  #  #  #  \n"
     ]
    }
   ],
   "source": [
    "# Representing the maze as an array of strings\n",
    "def createMaze():\n",
    "  maze = [\n",
    "    [\"#\", \"#\", \"#\", \"#\", \"#\", \"#\", \"#\", \"#\", \"#\", \"#\", \"#\"], # top border\n",
    "    [\"#\", \"1\", \" \", \"2\", \" \", \"3\", \"#\", \"4\", \" \", \"5\", \"#\"], # row 1\n",
    "    [\"#\", \" \", \"#\", \"#\", \"#\", \" \", \"#\", \"#\", \"#\", \" \", \"#\"], # divider\n",
    "    [\"#\", \"6\", \"#\", \"7\", \" \", \"8\", \" \", \"9\", \" \", \"10\", \"#\"], # row 2\n",
    "    [\"#\", \" \", \"#\", \" \", \"#\", \" \", \"#\", \"#\", \"#\", \" \", \"#\"], # divider\n",
    "    [\"#\", \"11\", \" \", \"12\", \"#\", \"13\", \"#\", \"14\", \"#\", \"15\", \"#\"], # row 3\n",
    "    [\"#\", \"#\", \"#\", \" \", \"#\", \" \", \"#\", \" \", \"#\", \" \", \"#\"], # divider\n",
    "    [\"#\", \"16\", \" \", \"17\", \"#\", \"18\", \"#\", \"19\", \" \", \"20\", \"#\"], # row 4\n",
    "    [\"#\", \" \", \"#\", \" \", \"#\", \" \", \"#\", \"#\", \"#\", \"#\", \"#\"], # divider\n",
    "    [\"#\", \"21\", \"#\", \"22\", \"#\", \"23\", \" \", \"24\", \" \", \"25\", \"#\"], # row 5\n",
    "    [\"#\", \"#\", \"#\", \"#\", \"#\", \"#\", \"#\", \"#\", \"#\", \"#\", \"#\"] # bottom border\n",
    "  ]\n",
    "  return maze\n",
    "\n",
    "def printMaze(maze):\n",
    "  for row in maze:\n",
    "    for col in row:\n",
    "      print(f\"{col:2}\", end=\" \")\n",
    "    print()\n",
    "\n",
    "printMaze(createMaze())"
   ]
  },
  {
   "cell_type": "code",
   "execution_count": 2,
   "metadata": {},
   "outputs": [
    {
     "name": "stdout",
     "output_type": "stream",
     "text": [
      "Maze represented as graph using adjancency list:\n",
      " {1: [2, 6], 2: [1, 3], 3: [2, 8], 4: [5], 5: [4, 10], 6: [1, 11], 7: [8, 12], 8: [3, 7, 9, 13], 9: [8, 10], 10: [5, 9, 15], 11: [6, 12], 12: [7, 11, 17], 13: [8, 18], 14: [19], 15: [10, 20], 16: [17, 21], 17: [12, 16, 22], 18: [13, 23], 19: [14, 20], 20: [15, 19], 21: [16], 22: [17], 23: [18, 24], 24: [23, 25], 25: [24]}\n",
      "Start point: 1\n"
     ]
    }
   ],
   "source": [
    "def convertMazeToGraph(maze):\n",
    "  G = {}\n",
    "\n",
    "  rows = len(maze)\n",
    "  cols = len(maze[0])\n",
    "\n",
    "  def is_valid_move(i, j):\n",
    "    return 0 <= i < rows and 0 <= j < cols and maze[i][j] != '#'\n",
    "  \n",
    "  def add_edge(node, neighbor, weight=1):\n",
    "    if node in G:\n",
    "      G[node].append((neighbor, weight))\n",
    "    else:\n",
    "      G[node] = [(neighbor, weight)]\n",
    "\n",
    "  for i in range(rows):\n",
    "    for j in range(cols):\n",
    "      if maze[i][j] != '#' and maze[i][j] != ' ':\n",
    "        node = int(maze[i][j])\n",
    "        neighbors = []\n",
    "        \n",
    "        # Check adjacent cells for possible edges\n",
    "        for di, dj in [(-1, 0), (0, -1), (0, 1), (1, 0)]: # up, left, right, down\n",
    "          ni, nj = i + di, j + dj\n",
    "          if is_valid_move(ni, nj) and maze[ni][nj] == ' ':\n",
    "            ni, nj = ni + di, nj + dj\n",
    "            neighbor = int(maze[ni][nj])\n",
    "            neighbors.append(neighbor)\n",
    "            add_edge(node, neighbor)\n",
    "        \n",
    "        G[node] = neighbors  # Update neighbors for the node\n",
    "  \n",
    "  return G\n",
    "\n",
    "G = convertMazeToGraph(createMaze())\n",
    "start = 1\n",
    "\n",
    "print(\"Maze represented as graph using adjancency list:\\n\", G)\n",
    "print(\"Start point:\", start)"
   ]
  },
  {
   "cell_type": "markdown",
   "metadata": {},
   "source": [
    "## Step 2: Algorithm Design"
   ]
  },
  {
   "cell_type": "markdown",
   "metadata": {},
   "source": [
    "### Data Structures:\n",
    "- Dictionary `G` used to represent the graph where keys are nodes and values of lists of neighbouring nodes.\n",
    "- Deque `queue` used to perform breadth-first search (BFS) traversal of the graph.\n",
    "- Set `visited` used to store visited nodes and their corresponding masks to avoid revisiting nodes.\n",
    "\n",
    "### Pseudocode:\n",
    "```\n",
    "findShortestPath(G, start):\n",
    "    Initialize n as the number of nodes in the graph G\n",
    "    Initialize final_mask as (1 << n) - 1\n",
    "    Initialize queue with starting node, its mask, distance 0, and path containing only the starting node\n",
    "    Initialize visited set with the mask and starting node\n",
    "    \n",
    "    while queue is not empty:\n",
    "        Dequeue a node from the queue (mask, current_node, distance, path)\n",
    "        \n",
    "        if mask is equal to final_mask:\n",
    "            Return distance and path as the shortest distance and path\n",
    "        \n",
    "        for each neighbor in G[current_node]:\n",
    "            Calculate new_mask by setting the bit for the neighbor node in the mask\n",
    "            if (new_mask, neighbor) is not in visited:\n",
    "                Add (new_mask, neighbor) to visited\n",
    "                Append neighbor to the path\n",
    "                Enqueue (new_mask, neighbor, distance + 1, updated path) into the queue\n",
    "    \n",
    "    Return \"No path found\" if no path to reach all nodes\n",
    "```\n",
    "\n",
    "### Explanation:\n",
    "\n",
    "When the algorithm begins, it first determines the number of nodes `n` in the given graph `G`. This step is crucial as it establishes the size of the bitmask needed to track visited nodes. Next, it creates a binary mask called `final_mask` that represents all nodes visited. This mask is constructed by setting all its bits to 1, indicating that all nodes in the graph have been visited. The algorithm starts the Breadth-First Search (BFS) traversal from a specified `start` node. To facilitate BFS, a queue is initialized to keep track of nodes during traversal. Each element in the queue represents a node's state, including its bitmask, current distance from the start node, and the path taken to reach it. Additionally, a set called `visited` is used to store visited nodes along with their corresponding masks to avoid revisiting nodes.\n",
    "\n",
    "The BFS algorithm unfolds iteratively as long as the queue is not empty. At each iteration, the algorithm dequeues a node `(mask, current_node, distance, path)` from the queue. It checks if the current mask matches the `final_mask`, indicating that all nodes have been visited. If this condition is met, the algorithm terminates and returns the current distance and path as the shortest path. Otherwise, the algorithm proceeds to explore neighbors of the `current_node` in the graph `G`. For each neighbor, it calculates a new bitmask `new_mask` by setting the bit corresponding to the neighbor node in the current mask. If the `(new_mask, neighbor)` pair is not in the `visited` set, indicating the neighbor has not been visited with the same mask, it marks the neighbor as visited by adding it to `visited`. The algorithm then updates the current path by appending the neighbor node and enqueues the neighbor with the new bitmask, incremented distance, and updated path into the queue.\n",
    "\n",
    "The algorithm terminates in two possible ways. If BFS completes without finding a path covering all nodes (i.e., reaching the `final_mask`), it concludes that no such path exists to visit all nodes exactly once. In this case, it may return an appropriate message indicating the absence of such a path. On the other hand, if the BFS traversal successfully reaches the `final_mask`, signifying that all nodes have been visited, the algorithm returns the shortest distance and corresponding path found during the traversal. This approach systematically explores paths in the graph, leveraging BFS principles and bitmask manipulation to track visited nodes and find the shortest path covering all nodes precisely once."
   ]
  },
  {
   "cell_type": "markdown",
   "metadata": {},
   "source": [
    "## Step 3: Idea Implementation"
   ]
  },
  {
   "cell_type": "code",
   "execution_count": 3,
   "metadata": {},
   "outputs": [],
   "source": [
    "from typing import Dict, List, Tuple\n",
    "from collections import deque\n",
    "\n",
    "def findShortestPath(G: Dict[int, List[int]], start) -> Tuple[int, List[int]]:\n",
    "    n = len(G)\n",
    "    start_node = start\n",
    "    final_mask = (1 << n) - 1\n",
    "    queue = deque([(1 << (start_node - 1), start_node, 0, [start_node])])\n",
    "    visited = set((1 << (start_node - 1), start_node))\n",
    "        \n",
    "    while queue:\n",
    "        mask, current_node, distance, path = queue.popleft()\n",
    "\n",
    "        if mask == final_mask:\n",
    "            return distance, path\n",
    "        \n",
    "        for neighbor in G[current_node]:\n",
    "            new_mask = mask | (1 << (neighbor - 1))\n",
    "            if (new_mask, neighbor) not in visited:\n",
    "                visited.add((new_mask, neighbor))\n",
    "                new_path = path + [neighbor]\n",
    "                queue.append((new_mask, neighbor, distance + 1, new_path))"
   ]
  },
  {
   "cell_type": "markdown",
   "metadata": {},
   "source": [
    "## Step 4: Algorithm Testing"
   ]
  },
  {
   "cell_type": "code",
   "execution_count": 4,
   "metadata": {},
   "outputs": [
    {
     "name": "stdout",
     "output_type": "stream",
     "text": [
      "Shortest path distance: 37\n",
      "Shortest path:\n",
      " [1, 2, 1, 6, 11, 12, 17, 16, 21, 16, 17, 22, 17, 12, 7, 8, 3, 8, 13, 18, 23, 24, 25, 24, 23, 18, 13, 8, 9, 10, 5, 4, 5, 10, 15, 20, 19, 14]\n"
     ]
    }
   ],
   "source": [
    "shortest_path_distance, shortest_path = findShortestPath(G, 1)\n",
    "print(\"Shortest path distance:\", shortest_path_distance)\n",
    "print(\"Shortest path:\\n\", shortest_path)"
   ]
  },
  {
   "cell_type": "markdown",
   "metadata": {},
   "source": [
    "## Step 5: Algorithm Analysis"
   ]
  },
  {
   "cell_type": "markdown",
   "metadata": {},
   "source": [
    "The time complexity of the algorithm is **`O(V x 2^V)`**, where `V` is the number of nodes. This is because there are `2^V` possible subsets of nodes and `n` nodes to consider for each subset."
   ]
  },
  {
   "cell_type": "markdown",
   "metadata": {},
   "source": [
    "## Step 6: Discussion"
   ]
  },
  {
   "cell_type": "markdown",
   "metadata": {},
   "source": [
    "### Advantages\n",
    "1. Completeness: The algorithm guarantees to find the shortest path that visits all nodes exactly once if such a path exists.\n",
    "2. Efficiency: It uses breadth-first search (BFS) which ensures that the first solution found is the shortest path in terms of the number of edges traversed.\n",
    "3. Memory Usage: Utilizes memory efficiently by using bitmasks to represent visited nodes, reducing memory overhead compared to storing node visitation status separately.\n",
    "4. Scalability: Handles large graphs efficiently due to its BFS nature and bit manipulation techniques.\n",
    "\n",
    "### Limitations\n",
    "1. Exponential Complexity: The algorithm has exponential time complexity in the worst case due to exploring all possible combinations of node visits using bitmasks.\n",
    "2. Memory Usage: While efficient, bitmasks can become memory-intensive for graphs with a large number of nodes.\n",
    "3. Single Source: It is designed to find the shortest path from a single source node to visit all nodes. It may not be suitable for finding shortest paths between specific pairs of nodes.\n",
    "\n",
    "### Possible Modifications\n",
    "1. Heuristics: Integrate heuristic functions for informed search strategies such as A* search to improve efficiency in specific scenarios.\n",
    "2. Parallelization: Implement parallel processing techniques to explore different branches of the search tree concurrently for faster execution.\n",
    "3. Optimized Data Structures: Use optimized data structures like priority queues for BFS to improve performance in larger graphs.\n",
    "4. Dynamic Programming: Explore dynamic programming techniques to optimize subproblems and avoid redundant computations in finding shortest paths.\n",
    "\n",
    "### Algorithm Alternatives\n",
    "#### Dijkstra Approach\n",
    "\n",
    "First, we define an array `cost` to hold the shortest paths to various nodes while visiting subsets of nodes. Additionally, we create a priority queue `priority_queue` to store nodes along with their corresponding bitmasks, representing visited nodes for each node's path. This queue ensures that states are processed in ascending order based on their costs.\n",
    "\n",
    "To initialize the shortest paths from each node, we add each node to the priority queue with its corresponding bitmask (turning on its bit). Then, we apply Dijkstra's algorithm.\n",
    "\n",
    "During each iteration, we examine the neighboring nodes of the current node. For each neighbor, we compare its current cost of reaching a specific subset of nodes with the cost of reaching it through the current node plus the weight of the edge connecting them. If the former is greater, we update the cost for that neighbor. Furthermore, we enqueue the neighbor along with the updated bitmask obtained by bitwise-OR with 2^child into the priority queue, indicating that we've visited the child node.\n",
    "\n",
    "Ultimately, our answer represents the minimum cost among all nodes for visiting all nodes along their respective shortest paths.\n",
    "\n",
    "```\n",
    "function DijkstraApproach(V, G):\n",
    "    Initialize cost matrix 'cost' with all entries as infinity\n",
    "    Initialize priority queue 'pq' as empty\n",
    "\n",
    "    for node from 0 to V-1:\n",
    "        Add (node, 2^node) to 'pq' with priority 0\n",
    "        Set cost[node][2^node] = 0\n",
    "\n",
    "    while 'pq' is not empty:\n",
    "        current, mask <- Dequeue node from 'pq'\n",
    "        \n",
    "        for child, weight in G[current]:\n",
    "            new_mask <- mask or (1 << child)\n",
    "            if cost[child][new_mask] > cost[current][mask] + weight:\n",
    "                cost[child][new_mask] <- cost[current][mask] + weight\n",
    "                Enqueue (child, new_mask) to 'pq' with priority cost[child][new_mask]\n",
    "\n",
    "    Initialize answer as infinity\n",
    "    final_mask <- 2^V - 1  // Bitmask representing all nodes visited\n",
    "    for node from 0 to V-1:\n",
    "        answer <- min(answer, cost[node][final_mask])\n",
    "\n",
    "    return answer\n",
    "```\n",
    "The time complexity of this algorithm approach is **`O(V x 2^V x log(V x 2^V))`**.\n",
    "\n",
    "#### Brute Force\n",
    "\n",
    "First, we will derive all possible node visitation orders by generating permutations. Each permutation will define the sequence of nodes visited in the graph. The cost of a path will be the sum of all shortest paths between each consecutive pair of nodes.\n",
    "\n",
    "Next, we will compute the shortest paths between each consecutive pair of nodes using the Floyd-Warshall algorithm. This algorithm determines the shortest path between all pairs of nodes within a graph.\n",
    "\n",
    "Ultimately, the shortest path visiting all nodes in the graph will have the lowest cost compared to all feasible paths.\n",
    "```\n",
    "algorithm BruteForceApproach(V, G):\n",
    "    // INPUT\n",
    "    //     V = the number of nodes in the graph\n",
    "    //     G = the graph stored as an adjacency list\n",
    "    // OUTPUT\n",
    "    //     Returns the shortest path visiting all nodes in G\n",
    "\n",
    "    answer <- infinity\n",
    "    distance <- Calculate_Floyd_Warshall(G) // a matrix\n",
    "    permutations <- Calculate_Permutations()\n",
    "\n",
    "    for permutation in permutations:\n",
    "        cost <- 0\n",
    "        previous <- permutation[0]\n",
    "        for node in permutation:\n",
    "            cost <- cost + distance[previous, node]\n",
    "            previous <- node\n",
    "        if cost < answer:\n",
    "            answer <- cost\n",
    "\n",
    "    return answer\n",
    "```\n",
    "The time complexity of this algorithm approach is **`O(V^3 + V x V!)`**.\n",
    "\n",
    "### Justification for Choosing Algorithm\n",
    "1. Graph Characteristics: The algorithm is suitable for graphs with relatively small sizes or where the number of nodes is manageable due to its bit manipulation approach.\n",
    "2. Exploration Requirement: When the task requires finding the shortest path that visits all nodes exactly once from a single source node, this algorithm provides an optimal solution.\n",
    "3. Memory Efficiency: It offers memory efficiency by using bitmasks, making it practical for scenarios where memory constraints are a concern.\n",
    "4. Applicability: Ideal for scenarios like the Traveling Salesman Problem (TSP) variant where a single starting point needs to visit all destinations once and return to the starting point with minimum distance."
   ]
  },
  {
   "cell_type": "markdown",
   "metadata": {},
   "source": [
    "### Comparing Time Complexity"
   ]
  },
  {
   "cell_type": "code",
   "execution_count": 5,
   "metadata": {},
   "outputs": [
    {
     "name": "stderr",
     "output_type": "stream",
     "text": [
      "C:\\Users\\chuan\\AppData\\Local\\Temp\\ipykernel_12516\\3346442320.py:9: RuntimeWarning: divide by zero encountered in log\n",
      "  return v * 2**v * np.log(v * 2**v)\n",
      "C:\\Users\\chuan\\AppData\\Local\\Temp\\ipykernel_12516\\3346442320.py:9: RuntimeWarning: invalid value encountered in multiply\n",
      "  return v * 2**v * np.log(v * 2**v)\n"
     ]
    },
    {
     "data": {
      "image/png": "[encoded data removed]",
      "text/plain": [
       "<Figure size 640x480 with 1 Axes>"
      ]
     },
     "metadata": {},
     "output_type": "display_data"
    }
   ],
   "source": [
    "import numpy as np\n",
    "from scipy.special import gamma\n",
    "import matplotlib.pyplot as plt\n",
    "\n",
    "def T(v):\n",
    "  return v * 2**v\n",
    "\n",
    "def T1(v):\n",
    "  return v * 2**v * np.log(v * 2**v)\n",
    "\n",
    "def T2(v):\n",
    "  if np.any(v != np.floor(v)):\n",
    "    # Calculate factorial using gamma function for non-integer v\n",
    "    return v**3 + v * gamma(v + 1)\n",
    "  else:\n",
    "    # Calculate factorial using np.math.factorial for integer v\n",
    "    return v**3 + v * np.math.factorial(v.astype(int))\n",
    "\n",
    "v = np.arange(0, 7, 0.01)\n",
    "\n",
    "plt.plot(v, T(v), label='$T(v) = v(2^v)$')\n",
    "plt.plot(v, T1(v), label='$T_1(v) = v(2^v)(log(v(2^v)))$')\n",
    "plt.plot(v, T2(v), label='$T_2(v) = v^3 + v(v!)$')\n",
    "plt.ylim(0, 10000)\n",
    "plt.xlabel('v')\n",
    "plt.ylabel('T(v)')\n",
    "plt.title('Comparing $T_1(v)$ and $T_2(v)$')\n",
    "plt.legend()\n",
    "plt.grid()\n",
    "plt.show()"
   ]
  },
  {
   "cell_type": "markdown",
   "metadata": {},
   "source": [
    "Based on the plotted comparison graph, the time complexity of chosen algorithm has the lowest growth rate, while Brute Force Approach exceeds time complexity of Dijkstra Approach as the number of nodes (vertices) `v` exceeds approximately 5.1."
   ]
  },
  {
   "cell_type": "markdown",
   "metadata": {},
   "source": [
    "### Source:\n",
    "1. [Shortest Path Visiting All Nodes](https://leetcode.com/problems/shortest-path-visiting-all-nodes/description/)\n",
    "2. [Finding the Shortest Path in a Graph Visiting All Nodes](https://www.baeldung.com/cs/shortest-path-visiting-all-nodes)"
   ]
  }
 ],
 "metadata": {
  "kernelspec": {
   "display_name": "Python 3",
   "language": "python",
   "name": "python3"
  },
  "language_info": {
   "codemirror_mode": {
    "name": "ipython",
    "version": 3
   },
   "file_extension": ".py",
   "mimetype": "text/x-python",
   "name": "python",
   "nbconvert_exporter": "python",
   "pygments_lexer": "ipython3",
   "version": "3.11.3"
  }
 },
 "nbformat": 4,
 "nbformat_minor": 2
}
