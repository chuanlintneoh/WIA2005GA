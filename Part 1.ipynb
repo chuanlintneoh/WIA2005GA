{
 "cells": [
  {
   "cell_type": "markdown",
   "metadata": {},
   "source": [
    "# Part 1: Finding the Golden Statue of Bastet"
   ]
  },
  {
   "cell_type": "markdown",
   "metadata": {},
   "source": [
    "## Step 1: Define the Data Structure"
   ]
  },
  {
   "attachments": {
    "Maze.png": {
     "image/png": "[encoded data removed]"
    }
   },
   "cell_type": "markdown",
   "metadata": {},
   "source": [
    "![Maze.png](attachment:Maze.png)\n",
    "\n",
    "Figure 1: Modified floor plan"
   ]
  },
  {
   "cell_type": "code",
   "execution_count": 1,
   "metadata": {},
   "outputs": [
    {
     "name": "stdout",
     "output_type": "stream",
     "text": [
      "#  #  #  #  #  #  #  #  #  #  #  \n",
      "#  1     2     3  #  4     5  #  \n",
      "#     #  #  #     #  #  #     #  \n",
      "#  6  #  7     8     9     10 #  \n",
      "#     #     #     #  #  #     #  \n",
      "#  11    12 #  13 #  14 #  15 #  \n",
      "#  #  #     #     #     #     #  \n",
      "#  16    17 #  18 #  19    20 #  \n",
      "#     #     #     #  #  #  #  #  \n",
      "#  21 #  22 #  23    24    25 #  \n",
      "#  #  #  #  #  #  #  #  #  #  #  \n"
     ]
    }
   ],
   "source": [
    "# Representing the maze as an array of strings\n",
    "def createMaze():\n",
    "  maze = [\n",
    "    [\"#\", \"#\", \"#\", \"#\", \"#\", \"#\", \"#\", \"#\", \"#\", \"#\", \"#\"], # top border\n",
    "    [\"#\", \"1\", \" \", \"2\", \" \", \"3\", \"#\", \"4\", \" \", \"5\", \"#\"], # row 1\n",
    "    [\"#\", \" \", \"#\", \"#\", \"#\", \" \", \"#\", \"#\", \"#\", \" \", \"#\"], # divider\n",
    "    [\"#\", \"6\", \"#\", \"7\", \" \", \"8\", \" \", \"9\", \" \", \"10\", \"#\"], # row 2\n",
    "    [\"#\", \" \", \"#\", \" \", \"#\", \" \", \"#\", \"#\", \"#\", \" \", \"#\"], # divider\n",
    "    [\"#\", \"11\", \" \", \"12\", \"#\", \"13\", \"#\", \"14\", \"#\", \"15\", \"#\"], # row 3\n",
    "    [\"#\", \"#\", \"#\", \" \", \"#\", \" \", \"#\", \" \", \"#\", \" \", \"#\"], # divider\n",
    "    [\"#\", \"16\", \" \", \"17\", \"#\", \"18\", \"#\", \"19\", \" \", \"20\", \"#\"], # row 4\n",
    "    [\"#\", \" \", \"#\", \" \", \"#\", \" \", \"#\", \"#\", \"#\", \"#\", \"#\"], # divider\n",
    "    [\"#\", \"21\", \"#\", \"22\", \"#\", \"23\", \" \", \"24\", \" \", \"25\", \"#\"], # row 5\n",
    "    [\"#\", \"#\", \"#\", \"#\", \"#\", \"#\", \"#\", \"#\", \"#\", \"#\", \"#\"] # bottom border\n",
    "  ]\n",
    "  return maze\n",
    "\n",
    "def printMaze(maze):\n",
    "  for row in maze:\n",
    "    for col in row:\n",
    "      print(f\"{col:2}\", end=\" \")\n",
    "    print()\n",
    "\n",
    "printMaze(createMaze())"
   ]
  },
  {
   "cell_type": "code",
   "execution_count": 2,
   "metadata": {},
   "outputs": [
    {
     "name": "stdout",
     "output_type": "stream",
     "text": [
      "Maze represented in graph:\n",
      "Number of vertices: 25\n",
      "Graph represented using adjancency list with their respective weights:\n",
      " {1: [(2, 1), (6, 1)], 2: [(1, 1), (3, 1)], 3: [(2, 1), (8, 1)], 4: [(5, 1)], 5: [(4, 1), (10, 1)], 6: [(1, 1), (11, 1)], 7: [(8, 1), (12, 1)], 8: [(3, 1), (7, 1), (9, 1), (13, 1)], 9: [(8, 1), (10, 1)], 10: [(5, 1), (9, 1), (15, 1)], 11: [(6, 1), (12, 1)], 12: [(7, 1), (11, 1), (17, 1)], 13: [(8, 1), (18, 1)], 14: [(19, 1)], 15: [(10, 1), (20, 1)], 16: [(17, 1), (21, 1)], 17: [(12, 1), (16, 1), (22, 1)], 18: [(13, 1), (23, 1)], 19: [(14, 1), (20, 1)], 20: [(15, 1), (19, 1)], 21: [(16, 1)], 22: [(17, 1)], 23: [(18, 1), (24, 1)], 24: [(23, 1), (25, 1)], 25: [(24, 1)]}\n",
      "Start point: 1\n"
     ]
    }
   ],
   "source": [
    "def extractMazeInfo(maze):\n",
    "  V = 0\n",
    "  G = {}\n",
    "\n",
    "  def getNeighbors(row, col):\n",
    "    neighbors = []\n",
    "    directions = [(0, -1), (0, 1), (-1, 0), (1, 0)] # left, right, up, down\n",
    "    for dr, dc in directions:\n",
    "      r, c = row + dr, col + dc\n",
    "      if 0 <= r < len(maze) and 0 <= c < len(maze[0]) and maze[r][c] != \"#\":\n",
    "        if maze[r][c] != \" \":\n",
    "          print(f\"maze[{r}][{c}] = {maze[r][c]}\")\n",
    "          neighbors.append(\"({maze[r][c]}, 1)\") # vertex, weight\n",
    "    return neighbors\n",
    "  \n",
    "  for r in range(len(maze)):\n",
    "    for c in range(len(maze[0])):\n",
    "      if maze[r][c] != \"#\" and maze[r][c] != \" \":\n",
    "        V += 1\n",
    "        node = maze[r][c]\n",
    "        G[node] = getNeighbors(r, c)\n",
    "  \n",
    "  return V, G\n",
    "\n",
    "# V, G = extractMazeInfo(createMaze())\n",
    "\n",
    "V = 25\n",
    "G = {\n",
    "  1: [(2, 1), (6, 1)],\n",
    "  2: [(1, 1), (3, 1)],\n",
    "  3: [(2, 1), (8, 1)],\n",
    "  4: [(5, 1)],\n",
    "  5: [(4, 1), (10, 1)],\n",
    "  6: [(1, 1), (11, 1)],\n",
    "  7: [(8, 1), (12, 1)],\n",
    "  8: [(3, 1), (7, 1), (9, 1), (13, 1)],\n",
    "  9: [(8, 1), (10, 1)],\n",
    "  10: [(5, 1), (9, 1), (15, 1)],\n",
    "  11: [(6, 1), (12, 1)],\n",
    "  12: [(7, 1), (11, 1), (17, 1)],\n",
    "  13: [(8, 1), (18, 1)],\n",
    "  14: [(19, 1)],\n",
    "  15: [(10, 1), (20, 1)],\n",
    "  16: [(17, 1), (21, 1)],\n",
    "  17: [(12, 1), (16, 1), (22, 1)],\n",
    "  18: [(13, 1), (23, 1)],\n",
    "  19: [(14, 1), (20, 1)],\n",
    "  20: [(15, 1), (19, 1)],\n",
    "  21: [(16, 1)],\n",
    "  22: [(17, 1)],\n",
    "  23: [(18, 1), (24, 1)],\n",
    "  24: [(23, 1), (25, 1)],\n",
    "  25: [(24, 1)],\n",
    "}\n",
    "start = 1\n",
    "\n",
    "print(\"Maze represented in graph:\")\n",
    "print(\"Number of vertices:\", V)\n",
    "print(\"Graph represented using adjancency list with their respective weights:\\n\", G)\n",
    "print(\"Start point:\", start)"
   ]
  },
  {
   "cell_type": "markdown",
   "metadata": {},
   "source": [
    "## Step 2: Algorithm Design (Pseudocode)"
   ]
  },
  {
   "cell_type": "markdown",
   "metadata": {},
   "source": [
    "### Source:\n",
    "[Finding the Shortest Path in a Graph Visiting All Nodes](https://www.baeldung.com/cs/shortest-path-visiting-all-nodes)\n",
    "\n",
    "### Data Structures:\n",
    "- Matrix `cost` with size `V x 2^V` where each row corresponds to a node, and each column corresponds to a bitmask representing visited nodes.\n",
    "- List `priority_queue` used to prioritize nodes based on their current cost.\n",
    "\n",
    "### Pseudocode:\n",
    "\n",
    "```\n",
    "function DijkstraApproach(V, G):\n",
    "    Initialize cost matrix 'cost' with all entries as infinity\n",
    "    Initialize priority queue 'pq' as empty\n",
    "\n",
    "    for node from 0 to V-1:\n",
    "        Add (node, 2^node) to 'pq' with priority 0\n",
    "        Set cost[node][2^node] = 0\n",
    "\n",
    "    while 'pq' is not empty:\n",
    "        current, mask <- Dequeue node from 'pq'\n",
    "        \n",
    "        for child, weight in G[current]:\n",
    "            new_mask <- mask or (1 << child)\n",
    "            if cost[child][new_mask] > cost[current][mask] + weight:\n",
    "                cost[child][new_mask] <- cost[current][mask] + weight\n",
    "                Enqueue (child, new_mask) to 'pq' with priority cost[child][new_mask]\n",
    "\n",
    "    Initialize answer as infinity\n",
    "    final_mask <- 2^V - 1  // Bitmask representing all nodes visited\n",
    "    for node from 0 to V-1:\n",
    "        answer <- min(answer, cost[node][final_mask])\n",
    "\n",
    "    return answer\n",
    "```\n",
    "\n",
    "### Explanation:\n",
    "- The algorithm uses Dijkstra's approach to find the shortest path visiting all nodes.\n",
    "- It maintains a `cost` matrix to store the shortest distances and a priority queue `pq` to explore nodes based on their costs.\n",
    "- The bitmask `mask` in the priority queue represents the visited nodes.\n",
    "- The algorithm iteratively updates the costs and masks for each node and bitmask combination.\n",
    "- After exploration, it finds the minimum cost among all nodes for the final bitmask representing all nodes visited."
   ]
  },
  {
   "cell_type": "markdown",
   "metadata": {},
   "source": [
    "First, we define an array `cost` to hold the shortest paths to various nodes while visiting subsets of nodes. Additionally, we create a priority queue `priority_queue` to store nodes along with their corresponding bitmasks, representing visited nodes for each node's path. This queue ensures that states are processed in ascending order based on their costs.\n",
    "\n",
    "To initialize the shortest paths from each node, we add each node to the priority queue with its corresponding bitmask (turning on its bit). Then, we apply Dijkstra's algorithm.\n",
    "\n",
    "During each iteration, we examine the neighboring nodes of the current node. For each neighbor, we compare its current cost of reaching a specific subset of nodes with the cost of reaching it through the current node plus the weight of the edge connecting them. If the former is greater, we update the cost for that neighbor. Furthermore, we enqueue the neighbor along with the updated bitmask obtained by bitwise-OR with 2^child into the priority queue, indicating that we've visited the child node.\n",
    "\n",
    "Ultimately, our answer represents the minimum cost among all nodes for visiting all nodes along their respective shortest paths."
   ]
  },
  {
   "cell_type": "markdown",
   "metadata": {},
   "source": [
    "## Step 3: Idea Implementation"
   ]
  },
  {
   "cell_type": "code",
   "execution_count": 3,
   "metadata": {},
   "outputs": [],
   "source": [
    "import heapq\n",
    "\n",
    "def FindShortestPathCost(V, G, start):\n",
    "    # Initialize cost matrix with infinity values\n",
    "    cost = [[float('inf')] * (1 << V) for _ in range(V + 1)]\n",
    "\n",
    "    # Initialize priority queue and cost for start node\n",
    "    priority_queue = []\n",
    "    start_node = start\n",
    "    heapq.heappush(priority_queue, (0, start_node, 1 << (start_node - 1)))\n",
    "    cost[start_node][1 << (start_node - 1)] = 0\n",
    "\n",
    "    while priority_queue:\n",
    "        cur_cost, current, mask = heapq.heappop(priority_queue)\n",
    "\n",
    "        # Skip if current cost is higher than known cost\n",
    "        if cur_cost > cost[current][mask]:\n",
    "            continue\n",
    "\n",
    "        for child, weight in G[current]:\n",
    "            new_mask = mask | (1 << (child - 1))\n",
    "            if cost[child][new_mask] > cost[current][mask] + weight:\n",
    "                cost[child][new_mask] = cost[current][mask] + weight\n",
    "                heapq.heappush(priority_queue, (cost[child][new_mask], child, new_mask))\n",
    "\n",
    "    # Find minimum cost to visit all nodes\n",
    "    answer = float('inf')\n",
    "    final_mask = (1 << V) - 1  # Bitmask to represent all nodes visited\n",
    "    for node in range(1, V + 1):\n",
    "        answer = min(answer, cost[node][final_mask])\n",
    "\n",
    "    return answer"
   ]
  },
  {
   "cell_type": "markdown",
   "metadata": {},
   "source": [
    "## Step 4: Testing the Algorithm"
   ]
  },
  {
   "cell_type": "code",
   "execution_count": 4,
   "metadata": {},
   "outputs": [
    {
     "name": "stdout",
     "output_type": "stream",
     "text": [
      "Shortest path cost: 37\n"
     ]
    }
   ],
   "source": [
    "shortest_path = FindShortestPathCost(V, G, start)\n",
    "print(\"Shortest path cost:\", shortest_path)"
   ]
  },
  {
   "cell_type": "markdown",
   "metadata": {},
   "source": [
    "## Step 5: Algorithm Illustration & Explanation"
   ]
  },
  {
   "attachments": {
    "Part_1_Illustration.png": {
     "image/png": "[encoded data removed]"
    }
   },
   "cell_type": "markdown",
   "metadata": {},
   "source": [
    "Let's illustrate the algorithm using a simpler example with 4 vertices, thus the `cost` matrix will have dimensions of `4 x 16` (`V x 2^V`).\n",
    "\n",
    "![Part_1_Illustration.png](attachment:Part_1_Illustration.png)"
   ]
  },
  {
   "cell_type": "code",
   "execution_count": 5,
   "metadata": {},
   "outputs": [
    {
     "name": "stdout",
     "output_type": "stream",
     "text": [
      "Cost matrix:\n",
      "Bitmask\t| 0000 | 0001 | 0010 | 0011 | 0100 | 0101 | 0110 | 0111 | 1000 | 1001 | 1010 | 1011 | 1100 | 1101 | 1110 | 1111 | \n",
      "Node 0\t|  inf |  inf |  inf |  inf |  inf |  inf |  inf |  inf |  inf |  inf |  inf |  inf |  inf |  inf |  inf |  inf | \n",
      "Node 1\t|  inf |    0 |  inf |  inf |  inf |    2 |  inf |  inf |  inf |  inf |  inf |  inf |  inf |    4 |  inf |    6 | \n",
      "Node 2\t|  inf |  inf |  inf |  inf |  inf |  inf |  inf |  inf |  inf |  inf |  inf |  inf |  inf |  inf |  inf |    3 | \n",
      "Node 3\t|  inf |  inf |  inf |  inf |  inf |    1 |  inf |  inf |  inf |  inf |  inf |  inf |  inf |    3 |  inf |    5 | \n",
      "Node 4\t|  inf |  inf |  inf |  inf |  inf |  inf |  inf |  inf |  inf |  inf |  inf |  inf |  inf |    2 |  inf |    4 | \n",
      "Shortest path cost to visit all nodes (1111): 3\n"
     ]
    }
   ],
   "source": [
    "V = 4\n",
    "G = {\n",
    "  1: [(3, 1)],\n",
    "  2: [(4, 1)],\n",
    "  3: [(1, 1), (4, 1)],\n",
    "  4: [(2, 1), (3, 1)],\n",
    "}\n",
    "\n",
    "import heapq\n",
    "\n",
    "def DijkstraApproach(V, G, start=1):\n",
    "    # Initialize cost matrix with infinity values\n",
    "    cost = [[float('inf')] * (1 << V) for _ in range(V + 1)]\n",
    "\n",
    "    # Initialize priority queue and cost for start node\n",
    "    priority_queue = []\n",
    "    start_node = start\n",
    "    heapq.heappush(priority_queue, (0, start_node, 1 << (start_node - 1)))\n",
    "    cost[start_node][1 << (start_node - 1)] = 0\n",
    "\n",
    "    while priority_queue:\n",
    "        cur_cost, current, mask = heapq.heappop(priority_queue)\n",
    "\n",
    "        # Skip if current cost is higher than known cost\n",
    "        if cur_cost > cost[current][mask]:\n",
    "            continue\n",
    "\n",
    "        for child, weight in G[current]:\n",
    "            new_mask = mask | (1 << (child - 1))\n",
    "            if cost[child][new_mask] > cost[current][mask] + weight:\n",
    "                cost[child][new_mask] = cost[current][mask] + weight\n",
    "                heapq.heappush(priority_queue, (cost[child][new_mask], child, new_mask))\n",
    "\n",
    "    # Find minimum cost to visit all nodes\n",
    "    answer = float('inf')\n",
    "    final_mask = (1 << V) - 1  # Bitmask to represent all nodes visited\n",
    "    for node in range(1, V + 1):\n",
    "        answer = min(answer, cost[node][final_mask])\n",
    "    \n",
    "    return answer, cost\n",
    "\n",
    "def printCostMatrix(cost):\n",
    "    print(\"Cost matrix:\")\n",
    "    print(\"Bitmask\\t| 0000 | 0001 | 0010 | 0011 | 0100 | 0101 | 0110 | 0111 | 1000 | 1001 | 1010 | 1011 | 1100 | 1101 | 1110 | 1111 | \")\n",
    "    for idx, row in enumerate(cost):\n",
    "        print(f\"Node {idx}\\t|\", end=\" \")\n",
    "        for col in row:\n",
    "            print(f\"{col:4}\", end=\" | \")\n",
    "        print()\n",
    "\n",
    "shortest_path, cost = DijkstraApproach(V, G, 1)\n",
    "printCostMatrix(cost)\n",
    "print(\"Shortest path cost to visit all nodes (1111):\", shortest_path)"
   ]
  },
  {
   "cell_type": "markdown",
   "metadata": {},
   "source": [
    "The `cost` matrix is a crucial part of this algorithm, representing the shortest distances from each node to all possible combinations of visited nodes. For example, `0110` represents node 2 and node 3 are visited while node 1 and node 4 are not.\n",
    "\n",
    "- Rows: Corresponds to a node in the graph (representing the maze).\n",
    "- Column: Represents a bitmask that indicates which nodes have been visited.\n",
    "- Values: Represents the shortest distance from the current node to the nodes specified in the bitmask."
   ]
  },
  {
   "cell_type": "markdown",
   "metadata": {},
   "source": [
    "## Step 6: Algorithm Analysis"
   ]
  },
  {
   "cell_type": "markdown",
   "metadata": {},
   "source": [
    "The time complexity of the algorithm is **`O(V x 2^V x log(V x 2^V))`**, where `V` is the number of nodes and `2^V` is the number of all possible subset of nodes, and `log(V x 2^V)` for adding each state to the priority queue."
   ]
  },
  {
   "cell_type": "markdown",
   "metadata": {},
   "source": [
    "## Step 7: Discussion (Advantages & Limitations, Possible Modifications, Algorithm Alternatives)"
   ]
  },
  {
   "cell_type": "markdown",
   "metadata": {},
   "source": []
  },
  {
   "cell_type": "markdown",
   "metadata": {},
   "source": [
    "## Others"
   ]
  },
  {
   "cell_type": "markdown",
   "metadata": {},
   "source": [
    "### Answer by inspection:\n",
    "1, 6, 11, 12, 17, 22, 17, 16, 21, 16, 17, 12, 7, 8, 3, 2, 3, 8, 13, 18, 23, 24, 25, 24, 23, 18, 13, 8, 9, 10, 5, 4, 5, 10, 15, 20, 19, 14\n",
    "\n",
    "### Shortest Distance: 37"
   ]
  },
  {
   "cell_type": "markdown",
   "metadata": {},
   "source": [
    "### Source:\n",
    "[Python Path Finding Tutorial - Breadth First Search Algorithm](https://youtu.be/hettiSrJjM4)"
   ]
  },
  {
   "cell_type": "code",
   "execution_count": 6,
   "metadata": {},
   "outputs": [
    {
     "name": "stdout",
     "output_type": "stream",
     "text": [
      "Found: DRDDLLLLDDDDLLLLDDD\n",
      "# # # # # # # # O # # \n",
      "#           #   + + # \n",
      "#   # # #   # # # + # \n",
      "#   #     + + + + + # \n",
      "#   #   # + # # #   # \n",
      "#       # + #   #   # \n",
      "# # # # # + #   #   # \n",
      "# + + + + + #       # \n",
      "# + #   #   # # # # # \n",
      "# + #   #           # \n",
      "# + # # # # # # # # # \n"
     ]
    }
   ],
   "source": [
    "import queue\n",
    "\n",
    "def createMaze():\n",
    "  maze = []\n",
    "  maze.append([\"#\", \"#\", \"#\", \"#\", \"#\", \"#\", \"#\", \"#\", \"O\", \"#\", \"#\"])\n",
    "  maze.append([\"#\", \" \", \" \", \" \", \" \", \" \", \"#\", \" \", \" \", \" \", \"#\"])\n",
    "  maze.append([\"#\", \" \", \"#\", \"#\", \"#\", \" \", \"#\", \"#\", \"#\", \" \", \"#\"])\n",
    "  maze.append([\"#\", \" \", \"#\", \" \", \" \", \" \", \" \", \" \", \" \", \" \", \"#\"])\n",
    "  maze.append([\"#\", \" \", \"#\", \" \", \"#\", \" \", \"#\", \"#\", \"#\", \" \", \"#\"])\n",
    "  maze.append([\"#\", \" \", \" \", \" \", \"#\", \" \", \"#\", \" \", \"#\", \" \", \"#\"])\n",
    "  maze.append([\"#\", \"#\", \"#\", \"#\", \"#\", \" \", \"#\", \" \", \"#\", \" \", \"#\"])\n",
    "  maze.append([\"#\", \" \", \" \", \" \", \" \", \" \", \"#\", \" \", \" \", \" \", \"#\"])\n",
    "  maze.append([\"#\", \" \", \"#\", \" \", \"#\", \" \", \"#\", \"#\", \"#\", \"#\", \"#\"])\n",
    "  maze.append([\"#\", \" \", \"#\", \" \", \"#\", \" \", \" \", \" \", \" \", \" \", \"#\"])\n",
    "  maze.append([\"#\", \"X\", \"#\", \"#\", \"#\", \"#\", \"#\", \"#\", \"#\", \"#\", \"#\"])\n",
    "  return maze\n",
    "\n",
    "def printMaze(maze, path=\"\"):\n",
    "  for x, pos in enumerate(maze[0]):\n",
    "    if pos == \"O\":\n",
    "      start = x\n",
    "  \n",
    "  i = start\n",
    "  j = 0\n",
    "  pos = set()\n",
    "  for move in path:\n",
    "    if move == \"L\":\n",
    "      i -= 1\n",
    "    elif move == \"R\":\n",
    "      i += 1\n",
    "    elif move == \"U\":\n",
    "      j -= 1\n",
    "    elif move == \"D\":\n",
    "      j += 1\n",
    "    pos.add((j, i))\n",
    "\n",
    "  for j, row in enumerate(maze):\n",
    "    for i, col in enumerate(row):\n",
    "      if (j, i) in pos:\n",
    "        print(\"+ \", end=\"\")\n",
    "      else:\n",
    "        print(col + \" \", end=\"\")\n",
    "    print()\n",
    "\n",
    "def valid(maze, moves):\n",
    "  for x, pos in enumerate(maze[0]):\n",
    "    if pos == \"O\":\n",
    "      start = x\n",
    "  \n",
    "  i = start\n",
    "  j = 0\n",
    "  for move in moves:\n",
    "    if move == \"L\":\n",
    "      i -= 1\n",
    "    elif move == \"R\":\n",
    "      i += 1\n",
    "    elif move == \"U\":\n",
    "      j -= 1\n",
    "    elif move == \"D\":\n",
    "      j += 1\n",
    "\n",
    "    if not(0 <= i < len(maze[0]) and 0 <= j < len(maze)):\n",
    "      return False\n",
    "    elif (maze[j][i] == \"#\"):\n",
    "      return False\n",
    "    \n",
    "  return True\n",
    "\n",
    "def findEnd(maze, moves):\n",
    "  if maze is None:\n",
    "    print(\"Maze is None\")\n",
    "    return False\n",
    "  \n",
    "  for x, pos in enumerate(maze[0]):\n",
    "    if pos == \"O\":\n",
    "      start = x\n",
    "\n",
    "  i = start\n",
    "  j = 0\n",
    "  for move in moves:\n",
    "    if move == \"L\":\n",
    "      i -= 1\n",
    "    elif move == \"R\":\n",
    "      i += 1\n",
    "    elif move == \"U\":\n",
    "      j -= 1\n",
    "    elif move == \"D\":\n",
    "      j += 1\n",
    "\n",
    "  if maze[j][i] == \"X\":\n",
    "    print(\"Found: \" + moves)\n",
    "    printMaze(maze, moves)\n",
    "    return True\n",
    "  \n",
    "  return False\n",
    "\n",
    "\n",
    "nums = queue.Queue()\n",
    "nums.put(\"\")\n",
    "add = \"\"\n",
    "maze = createMaze()\n",
    "\n",
    "while not findEnd(maze, add): \n",
    "  add = nums.get()\n",
    "  # print(add)\n",
    "  for j in [\"L\", \"R\", \"U\", \"D\"]:\n",
    "    put = add + j\n",
    "    if valid(maze, put):\n",
    "      nums.put(put)"
   ]
  },
  {
   "cell_type": "code",
   "execution_count": 7,
   "metadata": {},
   "outputs": [
    {
     "name": "stdout",
     "output_type": "stream",
     "text": [
      "Shortest path cost: 37\n"
     ]
    }
   ],
   "source": [
    "import heapq\n",
    "\n",
    "def DijkstraApproach(V, G):\n",
    "    # Initialize cost matrix with infinity values\n",
    "    cost = [[float('inf')] * (1 << V) for _ in range(V + 1)]\n",
    "\n",
    "    # Initialize priority queue and cost for start node\n",
    "    priority_queue = []\n",
    "    start_node = 1\n",
    "    heapq.heappush(priority_queue, (0, start_node, 1 << (start_node - 1)))\n",
    "    cost[start_node][1 << (start_node - 1)] = 0\n",
    "\n",
    "    while priority_queue:\n",
    "        cur_cost, current, mask = heapq.heappop(priority_queue)\n",
    "\n",
    "        # Skip if current cost is higher than known cost\n",
    "        if cur_cost > cost[current][mask]:\n",
    "            continue\n",
    "\n",
    "        for child, weight in G[current]:\n",
    "            new_mask = mask | (1 << (child - 1))\n",
    "            if cost[child][new_mask] > cost[current][mask] + weight:\n",
    "                cost[child][new_mask] = cost[current][mask] + weight\n",
    "                heapq.heappush(priority_queue, (cost[child][new_mask], child, new_mask))\n",
    "\n",
    "    # Find minimum cost to visit all nodes\n",
    "    answer = float('inf')\n",
    "    final_mask = (1 << V) - 1  # Bitmask to represent all nodes visited\n",
    "    for node in range(1, V + 1):\n",
    "        answer = min(answer, cost[node][final_mask])\n",
    "\n",
    "    return answer\n",
    "\n",
    "V = 25\n",
    "G = {\n",
    "  1: [(2, 1), (6, 1)],\n",
    "  2: [(1, 1), (3, 1)],\n",
    "  3: [(2, 1), (8, 1)],\n",
    "  4: [(5, 1)],\n",
    "  5: [(4, 1), (10, 1)],\n",
    "  6: [(1, 1), (11, 1)],\n",
    "  7: [(8, 1), (12, 1)],\n",
    "  8: [(3, 1), (7, 1), (9, 1), (13, 1)],\n",
    "  9: [(8, 1), (10, 1)],\n",
    "  10: [(5, 1), (9, 1), (15, 1)],\n",
    "  11: [(6, 1), (12, 1)],\n",
    "  12: [(7, 1), (11, 1), (17, 1)],\n",
    "  13: [(8, 1), (18, 1)],\n",
    "  14: [(19, 1)],\n",
    "  15: [(10, 1), (20, 1)],\n",
    "  16: [(17, 1), (21, 1)],\n",
    "  17: [(12, 1), (16, 1), (22, 1)],\n",
    "  18: [(13, 1), (23, 1)],\n",
    "  19: [(14, 1), (20, 1)],\n",
    "  20: [(15, 1), (19, 1)],\n",
    "  21: [(16, 1)],\n",
    "  22: [(17, 1)],\n",
    "  23: [(18, 1), (24, 1)],\n",
    "  24: [(23, 1), (25, 1)],\n",
    "  25: [(24, 1)],\n",
    "}\n",
    "\n",
    "shortest_path = DijkstraApproach(V, G)\n",
    "print(\"Shortest path cost:\", shortest_path)"
   ]
  }
 ],
 "metadata": {
  "kernelspec": {
   "display_name": "Python 3",
   "language": "python",
   "name": "python3"
  },
  "language_info": {
   "codemirror_mode": {
    "name": "ipython",
    "version": 3
   },
   "file_extension": ".py",
   "mimetype": "text/x-python",
   "name": "python",
   "nbconvert_exporter": "python",
   "pygments_lexer": "ipython3",
   "version": "3.11.3"
  }
 },
 "nbformat": 4,
 "nbformat_minor": 2
}
